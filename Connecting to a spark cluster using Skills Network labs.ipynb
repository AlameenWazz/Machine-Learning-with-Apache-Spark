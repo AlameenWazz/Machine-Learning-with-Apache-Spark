{
  "cells": [
    {
      "cell_type": "markdown",
      "metadata": {
        "id": "view-in-github",
        "colab_type": "text"
      },
      "source": [
        "<a href=\"https://colab.research.google.com/github/alameenwaziri/Machine-Learning-with-Apache-Spark/blob/main/Connecting%20to%20a%20spark%20cluster%20using%20Skills%20Network%20labs.ipynb\" target=\"_parent\"><img src=\"https://colab.research.google.com/assets/colab-badge.svg\" alt=\"Open In Colab\"/></a>"
      ]
    },
    {
      "cell_type": "markdown",
      "metadata": {
        "id": "45107d20-2969-4944-adf7-e2abd57fc22f"
      },
      "source": [
        "<p style=\"text-align:center\">\n",
        "    <a href=\"https://skills.network\" target=\"_blank\">\n",
        "    <img src=\"https://cf-courses-data.s3.us.cloud-object-storage.appdomain.cloud/assets/logos/SN_web_lightmode.png\" width=\"200\" alt=\"Skills Network Logo\">\n",
        "    </a>\n",
        "</p>\n"
      ]
    },
    {
      "cell_type": "markdown",
      "metadata": {
        "id": "1e5a0eda-f65f-42e3-9241-fafe66d459c7"
      },
      "source": [
        "## Connecting to spark cluster using Skills Network labs\n"
      ]
    },
    {
      "cell_type": "markdown",
      "metadata": {
        "id": "4e241cc4-0d87-4305-9e04-9da96c958ad2"
      },
      "source": [
        "Estimated time needed: **10** minutes\n"
      ]
    },
    {
      "cell_type": "markdown",
      "metadata": {
        "id": "71072689-bfe2-40c7-b9c6-882e4a3909b0"
      },
      "source": [
        "<p style='color: red'>The purpose of this lab is to show you how to connect to a Spark Cluster on Skill Networks Labs.\n"
      ]
    },
    {
      "cell_type": "markdown",
      "metadata": {
        "id": "c8eb1b07-9a36-4121-98ab-a699b5b8cd82"
      },
      "source": [
        "## __Table of Contents__\n",
        "\n",
        "<ol>\n",
        "    <li><a href=\"#Objectives\">Objectives</a></li>\n",
        "    <li><a href=\"#Datasets\">Datasets</a></li>\n",
        "    <li>\n",
        "        <a href=\"#Setup\">Setup</a>\n",
        "        <ol>\n",
        "            <li><a href=\"#Installing-Required-Libraries\">Installing Required Libraries</a></li>\n",
        "            <li><a href=\"#Importing-Required-Libraries\">Importing Required Libraries</a></li>\n",
        "        </ol>\n",
        "    </li>\n",
        "    <li>\n",
        "        <a href=\"#Examples\">Examples</a>\n",
        "        <ol>\n",
        "            <li><a href=\"#Task-1---Create-a-spark-session\">Task 1 - Create a spark session</a></li>\n",
        "    <li><a href=\"#Task-2---Download-the-data-file\">Task-2 - Download the data file</a></li>\n",
        "<li><a href=\"#Task-3---Load-the-data-in-a-csv-file-into-a-dataframe\">Task 3 - Load the data in a csv file into a dataframe</a></li>\n",
        "    <li><a href=\"#Task-4---Explore-the-data-set\">Task 4 - Explore the data set</a></li>\n",
        "        <li><a href=\"#Task-5---Stop-the-spark-session\">Task 5 - Stop the spark session</a></li>    \n",
        "        </ol>\n",
        "    </li>\n",
        "\n",
        "\n",
        "\n",
        "<li><a href=\"#Exercises\">Exercises</a></li>\n",
        "<ol>\n",
        "    <li><a href=\"#Exercise-1---Create-a-Spark-Session\">Exercise 1 - Create a Spark Session</a></li>\n",
        "    <li><a href=\"#Exercise-2---Load-the-dataset-into-a-dataframe\">Exercise 2 - Load the dataset into a dataframe</a></li>\n",
        "    <li><a href=\"#Exercise-3---Explore-the-data\">Exercise 3 - Explore the data</a></li>\n",
        "    <li><a href=\"#Exercise-4---Print-the-top-5-rows-of-the-dataframe\">Exercise 4 - Print the top 5 rows of the dataframe</a></li>\n",
        "    <li><a href=\"#Exercise-5---Stop-the-spark-session\">Exercise 5 - Stop the spark session</a></li>\n",
        "    </ol>\n",
        "<li><a href=\"#How-to-use-this-lab-notebook-offline\">How to use this lab notebook offline.\n",
        "</a></li>\n",
        "\n",
        "</ol>\n",
        "\n",
        "\n",
        "\n",
        "\n",
        "\n",
        "\n",
        "\n",
        "\n",
        "\n",
        "\n",
        "\n",
        "\n",
        "\n"
      ]
    },
    {
      "cell_type": "markdown",
      "metadata": {
        "id": "df28fd43-b814-4620-aebf-5459976c6cf7"
      },
      "source": [
        "## Objectives\n",
        "\n",
        "After completing this lab you will be able to:\n",
        "\n",
        " - Use PySpark to connect to a spark cluster.\n",
        " - Create a spark session.\n",
        " - Read a csv file into a data frame using the spark session.\n",
        " - Stop the spark session\n",
        " - Learn how to use this lab notebook offline.\n"
      ]
    },
    {
      "cell_type": "markdown",
      "metadata": {
        "id": "79e6f1f5-98c0-45c7-aec6-4019238ac2d9"
      },
      "source": [
        "## Datasets\n",
        "\n",
        "In this lab you will be using dataset(s):\n",
        "\n",
        " - Modified version of car mileage dataset.  Original dataset available at https://archive.ics.uci.edu/ml/datasets/auto+mpg\n",
        " - Modified version of diamonds dataset.  Original dataset available at https://www.openml.org/search?type=data&sort=runs&id=42225&status=active\n",
        "\n"
      ]
    },
    {
      "cell_type": "markdown",
      "metadata": {
        "id": "34c80944-b62d-4c2d-9f8d-02d30455d4a3"
      },
      "source": [
        "----\n"
      ]
    },
    {
      "cell_type": "markdown",
      "metadata": {
        "id": "cc6e2f99-dcd3-423e-acfa-284eb53c36f5"
      },
      "source": [
        "## Setup\n"
      ]
    },
    {
      "cell_type": "markdown",
      "metadata": {
        "id": "711ed820-894d-4aad-bb07-632a14a00c48"
      },
      "source": [
        "For this lab, we will be using the following libraries:\n",
        "\n",
        "*   [`PySpark`](https://spark.apache.org/docs/latest/api/python/index.html) for connecting to the Spark Cluster\n"
      ]
    },
    {
      "cell_type": "markdown",
      "metadata": {
        "id": "95c84c70-2b72-4c57-af35-56331c30bdb1"
      },
      "source": [
        "### Installing Required Libraries\n",
        "\n",
        "Spark Cluster is pre-installed in the Skills Network Labs environment. However, you need libraries like pyspark and findspark to\n",
        " connect to this cluster.\n",
        "\n",
        "If you download this notebook and run on your laptop, you will NOT be able to connect the spark cluster running on the SN labs.\n"
      ]
    },
    {
      "cell_type": "markdown",
      "metadata": {
        "id": "529ab52e-4d8a-4541-85ee-4c295afe4a1c"
      },
      "source": [
        "The following required libraries are __not__ pre-installed in the Skills Network Labs environment. __You will need to run the following cell__ to install them:\n"
      ]
    },
    {
      "cell_type": "code",
      "metadata": {
        "colab": {
          "base_uri": "https://localhost:8080/"
        },
        "id": "5444a22f-ef31-48ec-b370-478ff4b37f6f",
        "outputId": "985d4fe3-b85c-40f1-e752-3b988ed9b157"
      },
      "outputs": [
        {
          "output_type": "stream",
          "name": "stdout",
          "text": [
            "\u001b[2K     \u001b[90m━━━━━━━━━━━━━━━━━━━━━━━━━━━━━━━━━━━━━━━━\u001b[0m \u001b[32m212.4/212.4 MB\u001b[0m \u001b[31m4.6 MB/s\u001b[0m eta \u001b[36m0:00:00\u001b[0m\n",
            "\u001b[?25h  Preparing metadata (setup.py) ... \u001b[?25l\u001b[?25hdone\n",
            "\u001b[2K   \u001b[90m━━━━━━━━━━━━━━━━━━━━━━━━━━━━━━━━━━━━━━━━\u001b[0m \u001b[32m198.6/198.6 kB\u001b[0m \u001b[31m10.7 MB/s\u001b[0m eta \u001b[36m0:00:00\u001b[0m\n",
            "\u001b[?25h  Building wheel for pyspark (setup.py) ... \u001b[?25l\u001b[?25hdone\n"
          ]
        }
      ],
      "source": [
        "!pip install pyspark==3.1.2 -q\n",
        "!pip install findspark -q"
      ],
      "execution_count": 1
    },
    {
      "cell_type": "markdown",
      "metadata": {
        "id": "cb231373-11e6-4fa2-a44a-2f57aeca7419"
      },
      "source": [
        "### Importing Required Libraries\n",
        "\n",
        "_We recommend you import all required libraries in one place (here):_\n"
      ]
    },
    {
      "cell_type": "code",
      "metadata": {
        "id": "a50c00ab-2718-4bb6-86f6-104b602b2648"
      },
      "outputs": [],
      "source": [
        "# You can also use this section to suppress warnings generated by your code:\n",
        "def warn(*args, **kwargs):\n",
        "    pass\n",
        "import warnings\n",
        "warnings.warn = warn\n",
        "warnings.filterwarnings('ignore')\n",
        "\n",
        "# FindSpark simplifies the process of using Apache Spark with Python\n",
        "\n",
        "import findspark\n",
        "findspark.init()\n",
        "\n",
        "# import SparkSession\n",
        "from pyspark.sql import SparkSession"
      ],
      "execution_count": 2
    },
    {
      "cell_type": "markdown",
      "metadata": {
        "id": "387aea3f-6f04-4c04-a72d-aca0a3d97e9b"
      },
      "source": [
        "# Examples\n"
      ]
    },
    {
      "cell_type": "markdown",
      "metadata": {
        "id": "57379a80-13cc-4000-b578-4694793e6909"
      },
      "source": [
        "## Task 1 - Create a spark session\n"
      ]
    },
    {
      "cell_type": "code",
      "metadata": {
        "id": "3637c948-4b2d-4ded-ad3a-d10615f4ea32"
      },
      "outputs": [],
      "source": [
        "#Create SparkSession\n",
        "#Here 'Getting Started with Spark' is the application name\n",
        "#Ignore any warnings by SparkSession command\n",
        "\n",
        "spark = SparkSession.builder.appName(\"Getting Started with Spark\").getOrCreate()"
      ],
      "execution_count": 3
    },
    {
      "cell_type": "markdown",
      "metadata": {
        "id": "e51ba7f7-6676-4f9c-901c-ee6f66968043"
      },
      "source": [
        "## Task 2 - Download the data file\n"
      ]
    },
    {
      "cell_type": "code",
      "metadata": {
        "colab": {
          "base_uri": "https://localhost:8080/"
        },
        "id": "b7386ece-3c80-4120-b3a5-7226c388998c",
        "outputId": "4d530dd8-4c62-4df4-ace1-c9b26c379d35"
      },
      "outputs": [
        {
          "output_type": "stream",
          "name": "stdout",
          "text": [
            "--2024-10-01 19:33:11--  https://cf-courses-data.s3.us.cloud-object-storage.appdomain.cloud/IBM-BD0231EN-SkillsNetwork/datasets/mpg.csv\n",
            "Resolving cf-courses-data.s3.us.cloud-object-storage.appdomain.cloud (cf-courses-data.s3.us.cloud-object-storage.appdomain.cloud)... 169.63.118.104\n",
            "Connecting to cf-courses-data.s3.us.cloud-object-storage.appdomain.cloud (cf-courses-data.s3.us.cloud-object-storage.appdomain.cloud)|169.63.118.104|:443... connected.\n",
            "HTTP request sent, awaiting response... 200 OK\n",
            "Length: 13891 (14K) [text/csv]\n",
            "Saving to: ‘mpg.csv’\n",
            "\n",
            "mpg.csv             100%[===================>]  13.57K  --.-KB/s    in 0s      \n",
            "\n",
            "2024-10-01 19:33:13 (314 MB/s) - ‘mpg.csv’ saved [13891/13891]\n",
            "\n"
          ]
        }
      ],
      "source": [
        "!wget https://cf-courses-data.s3.us.cloud-object-storage.appdomain.cloud/IBM-BD0231EN-SkillsNetwork/datasets/mpg.csv\n"
      ],
      "execution_count": 4
    },
    {
      "cell_type": "markdown",
      "metadata": {
        "id": "d0448676-beec-4c65-9e76-e15bb63f611b"
      },
      "source": [
        "## Task 3 - Load the data in a csv file into a dataframe\n"
      ]
    },
    {
      "cell_type": "code",
      "metadata": {
        "id": "0a4523f5-8162-4287-93c9-da07a77dce0d"
      },
      "outputs": [],
      "source": [
        "# using the spark.read.csv function we load the data into a dataframe.\n",
        "# the header = True mentions that there is a header row in out csv file\n",
        "# the inferSchema = True, tells spark to automatically find out the data types of the columns.\n",
        "\n",
        "# Load mpg dataset\n",
        "mpg_data = spark.read.csv(\"mpg.csv\", header=True, inferSchema=True)\n"
      ],
      "execution_count": 5
    },
    {
      "cell_type": "markdown",
      "metadata": {
        "id": "d506416a-0765-4474-96c0-617cea9214a0"
      },
      "source": [
        "## Task 4 - Explore the data set\n"
      ]
    },
    {
      "cell_type": "markdown",
      "metadata": {
        "id": "2db61497-75b7-462a-ab26-3c09cff0c321"
      },
      "source": [
        "Let's print the schema of the dataset\n"
      ]
    },
    {
      "cell_type": "code",
      "metadata": {
        "colab": {
          "base_uri": "https://localhost:8080/"
        },
        "id": "9be9951e-cd1b-4499-90bb-7a7e715d3770",
        "outputId": "73470c56-d2d5-4042-f316-45d1cdea9cb0"
      },
      "outputs": [
        {
          "output_type": "stream",
          "name": "stdout",
          "text": [
            "root\n",
            " |-- MPG: double (nullable = true)\n",
            " |-- Cylinders: integer (nullable = true)\n",
            " |-- Engine Disp: double (nullable = true)\n",
            " |-- Horsepower: integer (nullable = true)\n",
            " |-- Weight: integer (nullable = true)\n",
            " |-- Accelerate: double (nullable = true)\n",
            " |-- Year: integer (nullable = true)\n",
            " |-- Origin: string (nullable = true)\n",
            "\n"
          ]
        }
      ],
      "source": [
        "mpg_data.printSchema()"
      ],
      "execution_count": 6
    },
    {
      "cell_type": "markdown",
      "metadata": {
        "id": "5b9ae27b-9857-4b56-97b8-a271e5f5886e"
      },
      "source": [
        "Let's look at some sample rows from the dataset we loaded:\n"
      ]
    },
    {
      "cell_type": "code",
      "metadata": {
        "colab": {
          "base_uri": "https://localhost:8080/"
        },
        "id": "dbbad74a-29fd-47f1-8103-3b056f369d5d",
        "outputId": "176397e3-6ae9-4922-9980-d047f75a5971"
      },
      "outputs": [
        {
          "output_type": "execute_result",
          "data": {
            "text/plain": [
              "[Row(MPG=15.0, Cylinders=8, Engine Disp=390.0, Horsepower=190, Weight=3850, Accelerate=8.5, Year=70, Origin='American'),\n",
              " Row(MPG=21.0, Cylinders=6, Engine Disp=199.0, Horsepower=90, Weight=2648, Accelerate=15.0, Year=70, Origin='American'),\n",
              " Row(MPG=18.0, Cylinders=6, Engine Disp=199.0, Horsepower=97, Weight=2774, Accelerate=15.5, Year=70, Origin='American'),\n",
              " Row(MPG=16.0, Cylinders=8, Engine Disp=304.0, Horsepower=150, Weight=3433, Accelerate=12.0, Year=70, Origin='American'),\n",
              " Row(MPG=14.0, Cylinders=8, Engine Disp=455.0, Horsepower=225, Weight=3086, Accelerate=10.0, Year=70, Origin='American')]"
            ]
          },
          "metadata": {},
          "execution_count": 7
        }
      ],
      "source": [
        "# show top 5 rows from the dataset\n",
        "mpg_data.head(5)"
      ],
      "execution_count": 7
    },
    {
      "cell_type": "markdown",
      "metadata": {
        "id": "6dc2b80b-c3e2-43e4-b40f-623331b60ad3"
      },
      "source": [
        "## Task 5 - Stop the spark session\n"
      ]
    },
    {
      "cell_type": "markdown",
      "metadata": {
        "id": "56aacc45-0103-4968-9036-855513037626"
      },
      "source": [
        "First we identify the target. Target is the value that our machine learning model needs to predict\n"
      ]
    },
    {
      "cell_type": "code",
      "metadata": {
        "id": "e1baa652-dbc5-4cf4-9308-ba9dbcc1b439"
      },
      "outputs": [],
      "source": [
        "spark.stop()"
      ],
      "execution_count": 8
    },
    {
      "cell_type": "markdown",
      "metadata": {
        "id": "1a34fa8b-d92a-41fe-b7da-d6061d68de98"
      },
      "source": [
        "# Exercises\n"
      ]
    },
    {
      "cell_type": "markdown",
      "metadata": {
        "id": "159f352e-bd0c-4435-870b-f2957170fa9e"
      },
      "source": [
        "### Exercise 1 - Create a Spark Session\n"
      ]
    },
    {
      "cell_type": "markdown",
      "metadata": {
        "id": "7af3e76e-62e1-487a-a5c7-76aa8ab29aab"
      },
      "source": [
        "Create a spark session with appname \"Diamond data analysis\"\n"
      ]
    },
    {
      "cell_type": "code",
      "metadata": {
        "id": "0af378be-de52-4081-9cb2-42a6bdff28bc"
      },
      "outputs": [],
      "source": [
        "spark = SparkSession.builder.appName(\"Diamond data analysis\").getOrCreate()"
      ],
      "execution_count": 9
    },
    {
      "cell_type": "markdown",
      "metadata": {
        "id": "4585fe8a-2506-419c-96f1-cff0522cb643"
      },
      "source": [
        "### Exercise 2 - Load the dataset into a dataframe\n"
      ]
    },
    {
      "cell_type": "markdown",
      "metadata": {
        "id": "b6a70dd9-213d-4d21-b8c8-0a0640124042"
      },
      "source": [
        "Download the data set from \"https://cf-courses-data.s3.us.cloud-object-storage.appdomain.cloud/IBM-BD0231EN-SkillsNetwork/datasets/diamonds.csv\"\n"
      ]
    },
    {
      "cell_type": "code",
      "metadata": {
        "colab": {
          "base_uri": "https://localhost:8080/"
        },
        "id": "8ca7e1df-fad9-4ccf-a29f-394c0767e57a",
        "outputId": "d02c76d2-4ad7-4f4e-ffd9-30281d07fd4b"
      },
      "outputs": [
        {
          "output_type": "stream",
          "name": "stdout",
          "text": [
            "--2024-10-01 19:35:08--  https://cf-courses-data.s3.us.cloud-object-storage.appdomain.cloud/IBM-BD0231EN-SkillsNetwork/datasets/diamonds.csv\n",
            "Resolving cf-courses-data.s3.us.cloud-object-storage.appdomain.cloud (cf-courses-data.s3.us.cloud-object-storage.appdomain.cloud)... 169.63.118.104\n",
            "Connecting to cf-courses-data.s3.us.cloud-object-storage.appdomain.cloud (cf-courses-data.s3.us.cloud-object-storage.appdomain.cloud)|169.63.118.104|:443... connected.\n",
            "HTTP request sent, awaiting response... 200 OK\n",
            "Length: 3192561 (3.0M) [text/csv]\n",
            "Saving to: ‘diamonds.csv’\n",
            "\n",
            "diamonds.csv        100%[===================>]   3.04M  1.94MB/s    in 1.6s    \n",
            "\n",
            "2024-10-01 19:35:11 (1.94 MB/s) - ‘diamonds.csv’ saved [3192561/3192561]\n",
            "\n"
          ]
        }
      ],
      "source": [
        "!wget https://cf-courses-data.s3.us.cloud-object-storage.appdomain.cloud/IBM-BD0231EN-SkillsNetwork/datasets/diamonds.csv\n"
      ],
      "execution_count": 10
    },
    {
      "cell_type": "markdown",
      "metadata": {
        "id": "2a2cb527-04f3-4427-a8f9-24c8d4efa6d4"
      },
      "source": [
        "Load diamond dataset into a dataframe named diamond_data\n"
      ]
    },
    {
      "cell_type": "code",
      "metadata": {
        "id": "b3ffd946-37de-4d7c-829a-7981b6f2b48c"
      },
      "outputs": [],
      "source": [
        "diamond_data = spark.read.csv(\"diamonds.csv\", header=True, inferSchema=True)"
      ],
      "execution_count": 11
    },
    {
      "cell_type": "markdown",
      "metadata": {
        "id": "2d35f8cf-8dd4-4c95-a4e8-347c0b347dab"
      },
      "source": [
        "### Exercise 3 - Explore the data\n"
      ]
    },
    {
      "cell_type": "markdown",
      "metadata": {
        "id": "5f6af471-9cf9-4a17-8bc9-e5c1870f5b15"
      },
      "source": [
        "Print the schema of the dataframe\n"
      ]
    },
    {
      "cell_type": "code",
      "metadata": {
        "colab": {
          "base_uri": "https://localhost:8080/"
        },
        "id": "dfdc62a5-b71b-4d12-a9d6-a950dbd1e28a",
        "outputId": "2d815ff3-ee87-4db7-d93b-7526d1072833"
      },
      "outputs": [
        {
          "output_type": "stream",
          "name": "stdout",
          "text": [
            "root\n",
            " |-- s: integer (nullable = true)\n",
            " |-- carat: double (nullable = true)\n",
            " |-- cut: string (nullable = true)\n",
            " |-- color: string (nullable = true)\n",
            " |-- clarity: string (nullable = true)\n",
            " |-- depth: double (nullable = true)\n",
            " |-- table: double (nullable = true)\n",
            " |-- price: integer (nullable = true)\n",
            " |-- x: double (nullable = true)\n",
            " |-- y: double (nullable = true)\n",
            " |-- z: double (nullable = true)\n",
            "\n"
          ]
        }
      ],
      "source": [
        "diamond_data.printSchema()"
      ],
      "execution_count": 12
    },
    {
      "cell_type": "markdown",
      "metadata": {
        "id": "e11fd689-14fb-4b07-9dd2-6415e544b56b"
      },
      "source": [
        "### Exercise 4 - Print the top 5 rows of the dataframe\n"
      ]
    },
    {
      "cell_type": "code",
      "metadata": {
        "colab": {
          "base_uri": "https://localhost:8080/"
        },
        "id": "fb4c677b-3934-4f93-8837-aa8d319865ab",
        "outputId": "ad5f20bc-63e5-4ac8-c93c-7c268f60257b"
      },
      "outputs": [
        {
          "output_type": "execute_result",
          "data": {
            "text/plain": [
              "[Row(s=1, carat=0.23, cut='Ideal', color='E', clarity='SI2', depth=61.5, table=55.0, price=326, x=3.95, y=3.98, z=2.43),\n",
              " Row(s=2, carat=0.21, cut='Premium', color='E', clarity='SI1', depth=59.8, table=61.0, price=326, x=3.89, y=3.84, z=2.31),\n",
              " Row(s=3, carat=0.23, cut='Good', color='E', clarity='VS1', depth=56.9, table=65.0, price=327, x=4.05, y=4.07, z=2.31),\n",
              " Row(s=4, carat=0.29, cut='Premium', color='I', clarity='VS2', depth=62.4, table=58.0, price=334, x=4.2, y=4.23, z=2.63),\n",
              " Row(s=5, carat=0.31, cut='Good', color='J', clarity='SI2', depth=63.3, table=58.0, price=335, x=4.34, y=4.35, z=2.75)]"
            ]
          },
          "metadata": {},
          "execution_count": 13
        }
      ],
      "source": [
        "diamond_data.head(5)"
      ],
      "execution_count": 13
    },
    {
      "cell_type": "markdown",
      "metadata": {
        "id": "60f04b52-51bf-40f9-9118-56d057fb337f"
      },
      "source": [
        "### Exercise 5 - Stop the spark session\n"
      ]
    },
    {
      "cell_type": "code",
      "metadata": {
        "id": "b334de3b-2234-416b-bf00-0b9d23cdb20c"
      },
      "outputs": [],
      "source": [
        "spark.stop()"
      ],
      "execution_count": 14
    },
    {
      "cell_type": "markdown",
      "metadata": {
        "id": "d29fa533-06fa-42b1-9bb5-a437ed7c2cf9"
      },
      "source": [
        "Congratulations you have completed this lab.<br>\n"
      ]
    },
    {
      "cell_type": "markdown",
      "metadata": {
        "id": "92d5f9c0-809d-4a13-9a2e-1b2ea78b32bf"
      },
      "source": [
        "### How to use this lab notebook offline\n"
      ]
    },
    {
      "cell_type": "markdown",
      "metadata": {
        "id": "eba6c3fc-4758-4c6c-89e1-58da1e34a72f"
      },
      "source": [
        " - All the lab jupyter notebooks are designed to work with in the environment of the SN Labs.\n",
        " - If you download this notebook and run on your local machine, it will NOT run.\n",
        " - This is primarily because SN labs runs a Spark cluster instance, and all the Spark based labs connect to it.\n",
        " - If you download this notebook and run, you cannot connect the Spark cluster instance that runs on the SN labs.\n",
        " - However, if you wish to connect to your own instance of Spark cluster you can connect to it by making the changes mentioned below.\n",
        "\n",
        " Replace the code in Task 1 - \"Create a spark session\" with the one given below. Make sure you use your spark-master and port details.\n",
        "\n",
        " spark = SparkSession.builder.appName(\"YourAppName\").master(\"spark://spark-master:port\").getOrCreate()\n"
      ]
    },
    {
      "cell_type": "markdown",
      "metadata": {
        "id": "37a26cd1-0811-4d00-9d7d-4e443c5e33cb"
      },
      "source": [
        "Copyright © 2023 IBM Corporation. All rights reserved.\n"
      ]
    }
  ],
  "metadata": {
    "kernelspec": {
      "display_name": "Python",
      "language": "python",
      "name": "conda-env-python-py"
    },
    "language_info": {
      "name": ""
    },
    "colab": {
      "provenance": [],
      "include_colab_link": true
    }
  },
  "nbformat": 4,
  "nbformat_minor": 0
}